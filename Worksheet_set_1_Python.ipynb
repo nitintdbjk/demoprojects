{
 "cells": [
  {
   "cell_type": "markdown",
   "id": "d2152abf",
   "metadata": {},
   "source": [
    "# Factorial number"
   ]
  },
  {
   "cell_type": "code",
   "execution_count": 1,
   "id": "d4fdeff8",
   "metadata": {},
   "outputs": [
    {
     "name": "stdout",
     "output_type": "stream",
     "text": [
      "Enter number:5\n",
      "factorial is : 120\n"
     ]
    }
   ],
   "source": [
    "# Question-11\n",
    "i=int(input('Enter number:'))\n",
    "fac=1\n",
    "while (i>0):\n",
    "    fac=fac*i\n",
    "    i=i-1\n",
    "print('factorial is :', fac)"
   ]
  },
  {
   "cell_type": "markdown",
   "id": "4f30ce05",
   "metadata": {},
   "source": [
    "# Prime or composite"
   ]
  },
  {
   "cell_type": "code",
   "execution_count": 2,
   "id": "4613d9c0",
   "metadata": {},
   "outputs": [
    {
     "name": "stdout",
     "output_type": "stream",
     "text": [
      "Enter Number :7\n",
      "Composite number\n"
     ]
    }
   ],
   "source": [
    "# Question-12\n",
    "a = int(input('Enter Number :'))\n",
    "times=0\n",
    "i=1\n",
    "while(i<=a):\n",
    "    if(a%1==0):\n",
    "        times=times+1\n",
    "    i=i+1\n",
    "if(times==2):\n",
    "    print('Prime number')\n",
    "else:\n",
    "    print('Composite number')\n",
    "              "
   ]
  },
  {
   "cell_type": "code",
   "execution_count": 3,
   "id": "a3f7c033",
   "metadata": {},
   "outputs": [
    {
     "name": "stdout",
     "output_type": "stream",
     "text": [
      "Yes\n"
     ]
    }
   ],
   "source": [
    "# Question 13\n",
    "\n",
    "def ispalindrome(s):\n",
    "    return s == s[::-1]\n",
    "\n",
    "s = \"mom\"\n",
    "ans = ispalindrome(s)\n",
    "\n",
    "if ans:\n",
    "    print(\"Yes\")\n",
    "else:\n",
    "    print(\"No\")"
   ]
  },
  {
   "cell_type": "code",
   "execution_count": 5,
   "id": "8184d410",
   "metadata": {},
   "outputs": [
    {
     "name": "stdout",
     "output_type": "stream",
     "text": [
      "Yes\n"
     ]
    }
   ],
   "source": [
    "# Question 13\n",
    "x = \"dad\"\n",
    "\n",
    "w = \"\"\n",
    "for i in x:\n",
    "    w = i + w\n",
    "    \n",
    "if (x == w):\n",
    "    print(\"Yes\")\n",
    "else:\n",
    "    print(\"No\")"
   ]
  },
  {
   "cell_type": "code",
   "execution_count": null,
   "id": "f3894c1a",
   "metadata": {},
   "outputs": [],
   "source": []
  }
 ],
 "metadata": {
  "kernelspec": {
   "display_name": "Python 3 (ipykernel)",
   "language": "python",
   "name": "python3"
  },
  "language_info": {
   "codemirror_mode": {
    "name": "ipython",
    "version": 3
   },
   "file_extension": ".py",
   "mimetype": "text/x-python",
   "name": "python",
   "nbconvert_exporter": "python",
   "pygments_lexer": "ipython3",
   "version": "3.9.12"
  }
 },
 "nbformat": 4,
 "nbformat_minor": 5
}
